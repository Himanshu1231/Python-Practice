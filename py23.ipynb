{
 "cells": [
  {
   "cell_type": "markdown",
   "id": "855edf94",
   "metadata": {},
   "source": [
    "# Python Programming Assignment 23"
   ]
  },
  {
   "cell_type": "markdown",
   "id": "3e2deda6",
   "metadata": {},
   "source": [
    "1. Create a function that takes a number as an argument and returns True or False depending on whether the number is symmetrical or not. A number is symmetrical when it is the same as its reverse."
   ]
  },
  {
   "cell_type": "code",
   "execution_count": 1,
   "id": "8696409a",
   "metadata": {},
   "outputs": [],
   "source": [
    "import logging as lg\n",
    "lg.basicConfig(filename='error.log',level=lg.INFO)"
   ]
  },
  {
   "cell_type": "code",
   "execution_count": 2,
   "id": "68ac997e",
   "metadata": {},
   "outputs": [
    {
     "data": {
      "text/plain": [
       "True"
      ]
     },
     "execution_count": 2,
     "metadata": {},
     "output_type": "execute_result"
    }
   ],
   "source": [
    "def isSymmetrical(n):\n",
    "    try:\n",
    "        n = str(n)\n",
    "        if n == n[::-1]:\n",
    "            return True\n",
    "        else:\n",
    "            return False\n",
    "    except Exception as e:\n",
    "        print(\"There was some error\",e)\n",
    "        lg.exception(str(e))\n",
    "        \n",
    "isSymmetrical(1234321)"
   ]
  },
  {
   "cell_type": "markdown",
   "id": "408f180a",
   "metadata": {},
   "source": [
    "2. Given a string of numbers separated by a comma and space, return the product of the\n",
    "numbers."
   ]
  },
  {
   "cell_type": "code",
   "execution_count": 3,
   "id": "6cf02c0b",
   "metadata": {},
   "outputs": [
    {
     "name": "stdout",
     "output_type": "stream",
     "text": [
      "2.0\n",
      "100.0\n"
     ]
    }
   ],
   "source": [
    "def mult(s):\n",
    "    try: \n",
    "        li = s.split(\", \")\n",
    "        prod = 1\n",
    "        for  i in li:\n",
    "            prod *= float(i)\n",
    "        return prod\n",
    "    except Exception as e:\n",
    "        print(\"There was some error\",e)\n",
    "        lg.exception(str(e))\n",
    "        \n",
    "print(mult(\"1, 2\"))\n",
    "print(mult(\"2, 5, 10\"))"
   ]
  },
  {
   "cell_type": "markdown",
   "id": "ddde347a",
   "metadata": {},
   "source": [
    "3. Create a function that squares every digit of a number. The function receives an integer and must return an integer."
   ]
  },
  {
   "cell_type": "code",
   "execution_count": 6,
   "id": "39393d06",
   "metadata": {},
   "outputs": [
    {
     "name": "stdout",
     "output_type": "stream",
     "text": [
      "811181\n",
      "9414\n"
     ]
    }
   ],
   "source": [
    "def sq_digits(n):\n",
    "    try:\n",
    "        out = ''\n",
    "        for i in str(n):\n",
    "            out+= str(int(i)**2)\n",
    "        return int(out)\n",
    "    except Exception as e:\n",
    "        print(\"There was some error\",e)\n",
    "        lg.exception(str(e))\n",
    "        \n",
    "print(sq_digits(9119))\n",
    "print(sq_digits(3212))"
   ]
  },
  {
   "cell_type": "markdown",
   "id": "7c259b84",
   "metadata": {},
   "source": [
    "4. Create a function that sorts a list and removes all duplicate items from it."
   ]
  },
  {
   "cell_type": "code",
   "execution_count": 10,
   "id": "2726c1a1",
   "metadata": {},
   "outputs": [
    {
     "name": "stdout",
     "output_type": "stream",
     "text": [
      "[4]\n",
      "[1, 2, 3, 4]\n"
     ]
    }
   ],
   "source": [
    "def unique_sort(li):\n",
    "     try:\n",
    "        li.sort()\n",
    "        out = [li[0]]\n",
    "        for i in range(1,len(li)):\n",
    "            if li[i-1]==li[i]:\n",
    "                pass\n",
    "            else:\n",
    "                out.append(li[i])\n",
    "        return out\n",
    "     except Exception as e:\n",
    "        print(\"There was some error\",e)\n",
    "        lg.exception(str(e))\n",
    "        \n",
    "print(unique_sort([4,4,4,4,4]))\n",
    "print(unique_sort([1,2,4,3,2,4]))"
   ]
  },
  {
   "cell_type": "markdown",
   "id": "9895ff38",
   "metadata": {},
   "source": [
    "5. Create a function that returns the mean of all digits.The mean of all digits is the sum of digits / how many digits there are (e.g. mean of digits in 512 is (5+1+2)/3(number of digits) = 8/3=2).\n",
    "+ The mean will always be an integer."
   ]
  },
  {
   "cell_type": "code",
   "execution_count": 12,
   "id": "105b7ccf",
   "metadata": {},
   "outputs": [
    {
     "name": "stdout",
     "output_type": "stream",
     "text": [
      "2\n",
      "3\n",
      "3\n"
     ]
    }
   ],
   "source": [
    "def mean_digits(n):\n",
    "    try:\n",
    "        sum = 0\n",
    "        for i in str(n):\n",
    "            sum+=int(i)\n",
    "        return sum//len(str(n))\n",
    "    except Exception as e:\n",
    "        print(\"There was some error\",e)\n",
    "        lg.exception(str(e))\n",
    "\n",
    "print(mean_digits(512))           \n",
    "print(mean_digits(42))\n",
    "print(mean_digits(12345))"
   ]
  },
  {
   "cell_type": "code",
   "execution_count": null,
   "id": "b3de6f45",
   "metadata": {},
   "outputs": [],
   "source": []
  },
  {
   "cell_type": "code",
   "execution_count": null,
   "id": "354f892a",
   "metadata": {},
   "outputs": [],
   "source": []
  }
 ],
 "metadata": {
  "kernelspec": {
   "display_name": "Python 3",
   "language": "python",
   "name": "python3"
  },
  "language_info": {
   "codemirror_mode": {
    "name": "ipython",
    "version": 3
   },
   "file_extension": ".py",
   "mimetype": "text/x-python",
   "name": "python",
   "nbconvert_exporter": "python",
   "pygments_lexer": "ipython3",
   "version": "3.8.8"
  }
 },
 "nbformat": 4,
 "nbformat_minor": 5
}
