{
 "cells": [
  {
   "cell_type": "markdown",
   "id": "8758460f",
   "metadata": {},
   "source": [
    "# Python Programming Assignment 22"
   ]
  },
  {
   "cell_type": "markdown",
   "id": "16e9801a",
   "metadata": {},
   "source": [
    "1. Create a function that takes three parameters where:\n",
    "+ x is the start of the range (inclusive).\n",
    "+ y is the end of the range (inclusive).\n",
    "+ n is the divisor to be checked against.\n",
    "\n",
    "Return an ordered list with numbers in the range that are divisible by the third parameter n.\n",
    "Return an empty list if there are no numbers that are divisible by"
   ]
  },
  {
   "cell_type": "code",
   "execution_count": 1,
   "id": "cbf579be",
   "metadata": {},
   "outputs": [],
   "source": [
    "import logging as lg\n",
    "lg.basicConfig(filename='error.log',level=lg.INFO)"
   ]
  },
  {
   "cell_type": "code",
   "execution_count": 3,
   "id": "96febfbd",
   "metadata": {},
   "outputs": [
    {
     "name": "stdout",
     "output_type": "stream",
     "text": [
      "[5, 10]\n",
      "[]\n"
     ]
    }
   ],
   "source": [
    "def div_in_range(x,y,n):\n",
    "    try:\n",
    "        return [i for i in range(x,y+1) if i%n==0]\n",
    "    except Exception as e:\n",
    "        print(\"There was some error\",e)\n",
    "        lg.exception(str(e))\n",
    "        \n",
    "print(div_in_range(1,10,5))\n",
    "print(div_in_range(1,10,17))"
   ]
  },
  {
   "cell_type": "markdown",
   "id": "4cb7ec27",
   "metadata": {},
   "source": [
    "2. Create a function that takes in two lists and returns True if the second list follows the first list\n",
    "by one element, and False otherwise. In other words, determine if the second list is the first\n",
    "list shifted to the right by 1.\n",
    "+ Both input lists will be of the same length, and will have a minimum length of 2.\n",
    "+ The values of the 0-indexed element in the second list and the n-1th indexed element\n",
    "in the first list do not matter."
   ]
  },
  {
   "cell_type": "code",
   "execution_count": 8,
   "id": "fd02b047",
   "metadata": {},
   "outputs": [
    {
     "name": "stdout",
     "output_type": "stream",
     "text": [
      "True\n",
      "False\n"
     ]
    }
   ],
   "source": [
    "def test(li1,li2):\n",
    "    try:\n",
    "        if len(li1) != len(li2):\n",
    "            raise IndexError(\"Enter lists of same length\")\n",
    "        for i in range(len(li1)-1):\n",
    "            if li1[i+1] == li2[i]:\n",
    "                pass\n",
    "            else: \n",
    "                return False\n",
    "        return True\n",
    "    except Exception as e:\n",
    "        print(\"There was some error\",e)\n",
    "        lg.exception(str(e))\n",
    "        \n",
    "print(test([0,1,2,3],[1,2,3,4]))\n",
    "print(test([1,2],[5,5]))"
   ]
  },
  {
   "cell_type": "markdown",
   "id": "20e393e6",
   "metadata": {},
   "source": [
    "3. A group of friends have decided to start a secret society. The name will be the first letter of\n",
    "each of their names, sorted in alphabetical order.\n",
    "Create a function that takes in a list of names and returns the name of the secret society. "
   ]
  },
  {
   "cell_type": "code",
   "execution_count": 10,
   "id": "29b498a3",
   "metadata": {},
   "outputs": [
    {
     "name": "stdout",
     "output_type": "stream",
     "text": [
      "AMS\n"
     ]
    }
   ],
   "source": [
    "def society_name(li):\n",
    "    try:\n",
    "        lis = sorted(li)\n",
    "        name = ''\n",
    "        for i in lis:\n",
    "            name+=i[0]\n",
    "        return name\n",
    "    except Exception as e:\n",
    "        print(\"There was some error\",e)\n",
    "        lg.exception(str(e))\n",
    "        \n",
    "print(society_name(['Adam','Sarah','Malcom']))"
   ]
  },
  {
   "cell_type": "markdown",
   "id": "99a516ef",
   "metadata": {},
   "source": [
    "4. An isogram is a word that has no duplicate letters. Create a function that takes a string and\n",
    "returns either True or False depending on whether or not it&#39;s an &quot;isogram&quot;."
   ]
  },
  {
   "cell_type": "code",
   "execution_count": 2,
   "id": "14279a11",
   "metadata": {},
   "outputs": [
    {
     "name": "stdout",
     "output_type": "stream",
     "text": [
      "False\n",
      "True\n"
     ]
    }
   ],
   "source": [
    "def isIsogram(s):\n",
    "    try:\n",
    "        s_list = sorted(s.lower())\n",
    "        for i in range(1,len(s_list)):\n",
    "            if s_list[i-1]==s_list[i]:\n",
    "                return False\n",
    "        return True\n",
    "    except Exception as e:\n",
    "        print(\"There was some error\",e)\n",
    "        lg.exception(str(e))\n",
    "        \n",
    "print(isIsogram('PasSword'))\n",
    "print(isIsogram('yes'))"
   ]
  },
  {
   "cell_type": "markdown",
   "id": "2260cc8b",
   "metadata": {},
   "source": [
    "5. Create a function that takes a string and returns True or False, depending on whether the\n",
    "characters are in order or not."
   ]
  },
  {
   "cell_type": "code",
   "execution_count": 5,
   "id": "62d950c9",
   "metadata": {},
   "outputs": [
    {
     "name": "stdout",
     "output_type": "stream",
     "text": [
      "True\n",
      "False\n"
     ]
    }
   ],
   "source": [
    "def isOrdered(s):\n",
    "    try:\n",
    "        s_list = sorted(s.lower())\n",
    "        s_ordered = ''.join(s_list)\n",
    "        if s_ordered == s.lower():\n",
    "            return True\n",
    "        else:\n",
    "            return False\n",
    "    except Exception as e:\n",
    "        print(\"There was some error\",e)\n",
    "        lg.exception(str(e))\n",
    "        \n",
    "print(isOrdered(\"aBc\"))\n",
    "print(isOrdered('acdb'))"
   ]
  },
  {
   "cell_type": "code",
   "execution_count": null,
   "id": "477bd809",
   "metadata": {},
   "outputs": [],
   "source": []
  }
 ],
 "metadata": {
  "kernelspec": {
   "display_name": "Python 3",
   "language": "python",
   "name": "python3"
  },
  "language_info": {
   "codemirror_mode": {
    "name": "ipython",
    "version": 3
   },
   "file_extension": ".py",
   "mimetype": "text/x-python",
   "name": "python",
   "nbconvert_exporter": "python",
   "pygments_lexer": "ipython3",
   "version": "3.8.8"
  }
 },
 "nbformat": 4,
 "nbformat_minor": 5
}
