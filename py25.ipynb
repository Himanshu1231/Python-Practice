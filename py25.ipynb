{
 "cells": [
  {
   "cell_type": "markdown",
   "id": "99582d32",
   "metadata": {},
   "source": [
    "# Python Programming Assignment 25"
   ]
  },
  {
   "cell_type": "code",
   "execution_count": 1,
   "id": "096499f3",
   "metadata": {},
   "outputs": [],
   "source": [
    "import logging as lg\n",
    "lg.basicConfig(filename='error.log',level=lg.INFO)"
   ]
  },
  {
   "cell_type": "markdown",
   "id": "a1c13cb9",
   "metadata": {},
   "source": [
    "1. Create a function that takes three integer arguments (a, b, c) and returns the amount of\n",
    "integers which are of equal value."
   ]
  },
  {
   "cell_type": "code",
   "execution_count": 3,
   "id": "ad8df2f6",
   "metadata": {},
   "outputs": [
    {
     "name": "stdout",
     "output_type": "stream",
     "text": [
      "2\n",
      "3\n",
      "0\n"
     ]
    }
   ],
   "source": [
    "def num_equal(a,b,c):\n",
    "    try:\n",
    "        if a==b and b==c:\n",
    "            return 3\n",
    "        elif a !=b and b!=c:\n",
    "            return 0\n",
    "        else: \n",
    "            return 2\n",
    "    except Exception as e:\n",
    "        print(\"There was some error\",e)\n",
    "        lg.exception(str(e))\n",
    "        \n",
    "        \n",
    "print(num_equal(1,1,2))\n",
    "print(num_equal(1,1,1))\n",
    "print(num_equal(1,2,3))"
   ]
  },
  {
   "cell_type": "markdown",
   "id": "bf8dac60",
   "metadata": {},
   "source": [
    "2. Write a function that converts a dictionary into a list of keys-values tuples."
   ]
  },
  {
   "cell_type": "code",
   "execution_count": 4,
   "id": "194d451a",
   "metadata": {},
   "outputs": [
    {
     "name": "stdout",
     "output_type": "stream",
     "text": [
      "[('a', 5), ('b', 10), ('c', 15)]\n"
     ]
    }
   ],
   "source": [
    "def dict_to_list(d):\n",
    "    try:\n",
    "        li=[]\n",
    "        for i in d.keys():\n",
    "            li.append((i,d[i]))\n",
    "        return li\n",
    "    except Exception as e:\n",
    "        print(\"There was some error\",e)\n",
    "        lg.exception(str(e))\n",
    "        \n",
    "print(dict_to_list({'a':5,'b':10,'c':15}))"
   ]
  },
  {
   "cell_type": "markdown",
   "id": "5097169d",
   "metadata": {},
   "source": [
    "3. Write a function that creates a dictionary with each (key, value) pair being the (lower case,\n",
    "upper case) versions of a letter, respectively.\n",
    "\n",
    "All of the letters in the input list will always be lowercase."
   ]
  },
  {
   "cell_type": "code",
   "execution_count": 5,
   "id": "90cf1efb",
   "metadata": {},
   "outputs": [
    {
     "name": "stdout",
     "output_type": "stream",
     "text": [
      "{'a': 'A', 'b': 'B', 'c': 'C'}\n"
     ]
    }
   ],
   "source": [
    "def mapp(li):\n",
    "    try:\n",
    "        d={}\n",
    "        for i in li:\n",
    "            d[i] = i.upper()\n",
    "        return d\n",
    "    except Exception as e:\n",
    "        print(\"There was some error\",e)\n",
    "        lg.exception(str(e))\n",
    "        \n",
    "print(mapp(['a','b','c']))"
   ]
  },
  {
   "cell_type": "markdown",
   "id": "c8ecae48",
   "metadata": {},
   "source": [
    "4. Write a function, that replaces all vowels in a string with a specified vowel."
   ]
  },
  {
   "cell_type": "code",
   "execution_count": 10,
   "id": "de7c9d86",
   "metadata": {},
   "outputs": [
    {
     "name": "stdout",
     "output_type": "stream",
     "text": [
      "Thos os on oxomplo\n"
     ]
    }
   ],
   "source": [
    "def rep_vow(s,v):\n",
    "    try:\n",
    "        if v not in 'aeiou':\n",
    "            raise ValueError('Replacement to be done with a vowel')\n",
    "        rep_str = ''\n",
    "        for i in s:\n",
    "            if i.lower() in 'aeiou':\n",
    "                rep_str+=v\n",
    "            else:\n",
    "                rep_str +=i\n",
    "        return rep_str\n",
    "    except Exception as e:\n",
    "        print(\"There was some error\",e)\n",
    "        lg.exception(str(e))\n",
    "        \n",
    "        \n",
    "print(rep_vow(\"This is an example\",'o'))"
   ]
  },
  {
   "cell_type": "markdown",
   "id": "c0242693",
   "metadata": {},
   "source": [
    "5. Create a function that takes a string as input and capitalizes a letter if its ASCII code is even and returns its lower case version if its ASCII code is odd."
   ]
  },
  {
   "cell_type": "code",
   "execution_count": 11,
   "id": "2d209a94",
   "metadata": {},
   "outputs": [
    {
     "data": {
      "text/plain": [
       "'To Be oR NTo To Be'"
      ]
     },
     "execution_count": 11,
     "metadata": {},
     "output_type": "execute_result"
    }
   ],
   "source": [
    "def ascii_cap(s):\n",
    "    try:\n",
    "        li = [i.lower() if ord(i)%2 != 0 else i.upper() for i in s]\n",
    "        return \"\".join(li)\n",
    "    except Exception as e:\n",
    "        print(\"There was some error\",e)\n",
    "        lg.exception(str(e))\n",
    "        \n",
    "ascii_cap('to be or nto to be')"
   ]
  },
  {
   "cell_type": "code",
   "execution_count": null,
   "id": "21643ad8",
   "metadata": {},
   "outputs": [],
   "source": []
  }
 ],
 "metadata": {
  "kernelspec": {
   "display_name": "Python 3",
   "language": "python",
   "name": "python3"
  },
  "language_info": {
   "codemirror_mode": {
    "name": "ipython",
    "version": 3
   },
   "file_extension": ".py",
   "mimetype": "text/x-python",
   "name": "python",
   "nbconvert_exporter": "python",
   "pygments_lexer": "ipython3",
   "version": "3.8.8"
  }
 },
 "nbformat": 4,
 "nbformat_minor": 5
}
