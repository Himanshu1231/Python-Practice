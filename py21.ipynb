{
 "cells": [
  {
   "cell_type": "markdown",
   "id": "358d630e",
   "metadata": {},
   "source": [
    "# Python Programming assignment 21"
   ]
  },
  {
   "cell_type": "code",
   "execution_count": 1,
   "id": "809234e2",
   "metadata": {},
   "outputs": [],
   "source": [
    "import logging as lg\n",
    "lg.basicConfig(filename='error.log',level=lg.INFO)"
   ]
  },
  {
   "cell_type": "markdown",
   "id": "c7e32112",
   "metadata": {},
   "source": [
    "1. Write a function that takes a list and a number as arguments. Add the number to the end of\n",
    "the list, then remove the first element of the list. The function should then return the updated\n",
    "list."
   ]
  },
  {
   "cell_type": "code",
   "execution_count": 2,
   "id": "82a0056b",
   "metadata": {},
   "outputs": [
    {
     "data": {
      "text/plain": [
       "[2, 3, 4, 5, 10]"
      ]
     },
     "execution_count": 2,
     "metadata": {},
     "output_type": "execute_result"
    }
   ],
   "source": [
    "def list_add_remove(li,ele):\n",
    "    try:\n",
    "        li.append(ele)\n",
    "        li.pop(0)\n",
    "        return li\n",
    "    except Exception as e:\n",
    "        print(\"There was some error\",e)\n",
    "        lg.exception(str(e))\n",
    "        \n",
    "list_add_remove([1,2,3,4,5],10)\n"
   ]
  },
  {
   "cell_type": "markdown",
   "id": "41d8a5bd",
   "metadata": {},
   "source": [
    "2. Create the function that takes a list of dictionaries and returns the sum of people&#39;s budgets."
   ]
  },
  {
   "cell_type": "code",
   "execution_count": 4,
   "id": "710efc5c",
   "metadata": {},
   "outputs": [
    {
     "data": {
      "text/plain": [
       "65700"
      ]
     },
     "execution_count": 4,
     "metadata": {},
     "output_type": "execute_result"
    }
   ],
   "source": [
    "def get_budget(li):\n",
    "    try:\n",
    "        budget = 0\n",
    "        for i in li:\n",
    "            budget+= i['budget']\n",
    "        return budget\n",
    "    except Exception as e:\n",
    "        print(\"There was some error\",e)\n",
    "        lg.exception(str(e))\n",
    "        \n",
    "get_budget([\n",
    "{ 'name ':'John', 'age': 21, 'budget': 23000 },\n",
    "{ 'name':'Steve', 'age': 32, 'budget': 40000 },\n",
    "{ 'name' :'Martin', 'age': 16, 'budget': 2700 }\n",
    "])"
   ]
  },
  {
   "cell_type": "markdown",
   "id": "337313fb",
   "metadata": {},
   "source": [
    "3. Create a function that takes a string and returns a string with its letters in alphabetical order."
   ]
  },
  {
   "cell_type": "code",
   "execution_count": 7,
   "id": "3c2edb69",
   "metadata": {},
   "outputs": [
    {
     "data": {
      "text/plain": [
       "'hnopty'"
      ]
     },
     "execution_count": 7,
     "metadata": {},
     "output_type": "execute_result"
    }
   ],
   "source": [
    "def sort_string(s):\n",
    "    try:\n",
    "        sort_li = sorted(s.lower())\n",
    "        return \"\".join(sort_li)\n",
    "    except Exception as e:\n",
    "        print(\"There was some error\",e)\n",
    "        lg.exception(str(e))\n",
    "        \n",
    "sort_string('Python')"
   ]
  },
  {
   "cell_type": "markdown",
   "id": "808a81ac",
   "metadata": {},
   "source": [
    "4. Create a function that accepts the principal p, the term in years t, the interest rate r, and the\n",
    "number of compounding periods per year n. The function returns the value at the end of term\n",
    "rounded to the nearest cent."
   ]
  },
  {
   "cell_type": "code",
   "execution_count": 14,
   "id": "5afc4b52",
   "metadata": {},
   "outputs": [
    {
     "name": "stdout",
     "output_type": "stream",
     "text": [
      "105.0\n",
      "15399.26\n"
     ]
    }
   ],
   "source": [
    "def compound_interest(p,t,r,n):\n",
    "    try:\n",
    "        return  round(p*(1+r/(n))**(t*n),2)\n",
    "    except Exception as e:\n",
    "        print(\"There was some error\",e)\n",
    "        lg.exception(str(e))\n",
    "        \n",
    "print(compound_interest(100, 1, 0.05, 1))\n",
    "print(compound_interest(3500, 15, 0.1, 4))"
   ]
  },
  {
   "cell_type": "markdown",
   "id": "7ef9ed02",
   "metadata": {},
   "source": [
    "5. Write a function that takes a list of elements and returns only the integers."
   ]
  },
  {
   "cell_type": "code",
   "execution_count": 15,
   "id": "faa7e573",
   "metadata": {},
   "outputs": [
    {
     "data": {
      "text/plain": [
       "[1, 4]"
      ]
     },
     "execution_count": 15,
     "metadata": {},
     "output_type": "execute_result"
    }
   ],
   "source": [
    "def filter_integers(li):\n",
    "    try:\n",
    "        out = []\n",
    "        for i in li:\n",
    "            if isinstance(i,int):\n",
    "                out.append(i)\n",
    "        return out\n",
    "    except Exception as e:\n",
    "        print(\"There was some error\",e)\n",
    "        lg.exception(str(e))\n",
    "    \n",
    "filter_integers(['abc',1,2.3,4,'xyz'])"
   ]
  }
 ],
 "metadata": {
  "kernelspec": {
   "display_name": "Python 3",
   "language": "python",
   "name": "python3"
  },
  "language_info": {
   "codemirror_mode": {
    "name": "ipython",
    "version": 3
   },
   "file_extension": ".py",
   "mimetype": "text/x-python",
   "name": "python",
   "nbconvert_exporter": "python",
   "pygments_lexer": "ipython3",
   "version": "3.8.8"
  }
 },
 "nbformat": 4,
 "nbformat_minor": 5
}
