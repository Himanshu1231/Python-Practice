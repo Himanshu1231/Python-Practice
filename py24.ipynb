{
 "cells": [
  {
   "cell_type": "markdown",
   "id": "b232068c",
   "metadata": {},
   "source": [
    "# Python Programming Assignment 24"
   ]
  },
  {
   "cell_type": "code",
   "execution_count": 1,
   "id": "7ef921dc",
   "metadata": {},
   "outputs": [],
   "source": [
    "import logging as lg\n",
    "lg.basicConfig(filename='error.log',level=lg.INFO)"
   ]
  },
  {
   "cell_type": "markdown",
   "id": "301829ac",
   "metadata": {},
   "source": [
    "1. Create a function that takes an integer and returns a list from 1 to the given number, where:\n",
    "    1. If the number can be divided evenly by 4, amplify it by 10 (i.e. return 10 times the number).\n",
    "    2. If the number cannot be divided evenly by 4, simply return the number."
   ]
  },
  {
   "cell_type": "code",
   "execution_count": 4,
   "id": "0780d1a2",
   "metadata": {},
   "outputs": [
    {
     "data": {
      "text/plain": [
       "[1, 2, 3, 40]"
      ]
     },
     "execution_count": 4,
     "metadata": {},
     "output_type": "execute_result"
    }
   ],
   "source": [
    "def amplify(n):\n",
    "    try:\n",
    "         return [i if i%4 !=0 else i*10 for i in range(1,n+1)]\n",
    "    except Exception as e:\n",
    "        print(\"There was some error\",e)\n",
    "        lg.exception(str(e))\n",
    "    \n",
    "amplify(4)"
   ]
  },
  {
   "cell_type": "markdown",
   "id": "b976acad",
   "metadata": {},
   "source": [
    "2. Create a function that takes a list of numbers and return the number that&#39;s unique.\n",
    "Test cases will always have exactly one unique number while all others are the same."
   ]
  },
  {
   "cell_type": "code",
   "execution_count": 10,
   "id": "dc89c3db",
   "metadata": {},
   "outputs": [
    {
     "name": "stdout",
     "output_type": "stream",
     "text": [
      "[1]\n",
      "[3]\n"
     ]
    }
   ],
   "source": [
    "def find_unique(li):\n",
    "    try:\n",
    "        li.sort()\n",
    "        li1 = li[1]\n",
    "        li2 = li[2]\n",
    "        li3 = li[-1]\n",
    "        if li1 != li2:\n",
    "            return [li1]\n",
    "        else:\n",
    "            return [li3]\n",
    "    except Exception as e:\n",
    "        print(\"There was some error\",e)\n",
    "        lg.exception(str(e))\n",
    "        \n",
    "print(find_unique([1,1,1,0.7,1]))\n",
    "print(find_unique([1,3,1,1,1,1]))\n",
    "            "
   ]
  },
  {
   "cell_type": "markdown",
   "id": "2bbeb56e",
   "metadata": {},
   "source": [
    "3. Your task is to create a Circle constructor that creates a circle with a radius provided by an\n",
    "argument. The circles constructed must have two getters getArea() (PIr^2) and\n",
    "getPerimeter() (2PI*r) which give both respective areas and perimeter (circumference)."
   ]
  },
  {
   "cell_type": "code",
   "execution_count": 20,
   "id": "2245b9f7",
   "metadata": {},
   "outputs": [
    {
     "name": "stdout",
     "output_type": "stream",
     "text": [
      "380\n",
      "69\n"
     ]
    }
   ],
   "source": [
    "class Circle:\n",
    "    def __init__(self,radius):\n",
    "        self.radius = radius\n",
    "        self.perimeter = 2*radius*3.14\n",
    "        self.area = 3.14*radius**2\n",
    "        \n",
    "    def getArea(self):\n",
    "        return round(self.area)\n",
    "    \n",
    "    def getPerimeter(self):\n",
    "        return round(self.perimeter)\n",
    "    \n",
    "    \n",
    "cir = Circle(11)\n",
    "print(cir.getArea())\n",
    "print(cir.getPerimeter())"
   ]
  },
  {
   "cell_type": "markdown",
   "id": "60f54817",
   "metadata": {},
   "source": [
    "4. Create a function that takes a list of strings and return a list, sorted from shortest to longest."
   ]
  },
  {
   "cell_type": "code",
   "execution_count": 22,
   "id": "557318fd",
   "metadata": {},
   "outputs": [
    {
     "name": "stdout",
     "output_type": "stream",
     "text": [
      "['c', 'bc', 'abc']\n"
     ]
    }
   ],
   "source": [
    "def sort_on_len(li):\n",
    "    try:\n",
    "        li = sorted(li,key=len)\n",
    "        return li\n",
    "    except Exception as e:\n",
    "        print(\"There was some error\",e)\n",
    "        lg.exception(str(e))\n",
    "        \n",
    "print(sort_on_len(['abc','bc','c']))"
   ]
  },
  {
   "cell_type": "markdown",
   "id": "94df006c",
   "metadata": {},
   "source": [
    "5. Create a function that validates whether three given integers form a Pythagorean triplet. The\n",
    "sum of the squares of the two smallest integers must equal the square of the largest number to\n",
    "be validated."
   ]
  },
  {
   "cell_type": "code",
   "execution_count": 25,
   "id": "323b98f7",
   "metadata": {},
   "outputs": [
    {
     "name": "stdout",
     "output_type": "stream",
     "text": [
      "True\n",
      "False\n"
     ]
    }
   ],
   "source": [
    "def isTriplet(a,b,c):\n",
    "    try:\n",
    "        a2 = a*a\n",
    "        b2 = b*b\n",
    "        c2 = c*c\n",
    "        if a<c and b<c:\n",
    "            if a2+b2==c2:\n",
    "                return True\n",
    "        elif b<a and c<a:\n",
    "            if b2+c2==a2:\n",
    "                return True\n",
    "        elif a<b and c<b:\n",
    "            if a2+c2 == b2:\n",
    "                return True\n",
    "        return False\n",
    "    except Exception as e:\n",
    "        print(\"There was some error\",e)\n",
    "        lg.exception(str(e))\n",
    "        \n",
    "print(isTriplet(3,4,5))\n",
    "print(isTriplet(1,2,5))"
   ]
  },
  {
   "cell_type": "code",
   "execution_count": null,
   "id": "97e098ff",
   "metadata": {},
   "outputs": [],
   "source": []
  }
 ],
 "metadata": {
  "kernelspec": {
   "display_name": "Python 3",
   "language": "python",
   "name": "python3"
  },
  "language_info": {
   "codemirror_mode": {
    "name": "ipython",
    "version": 3
   },
   "file_extension": ".py",
   "mimetype": "text/x-python",
   "name": "python",
   "nbconvert_exporter": "python",
   "pygments_lexer": "ipython3",
   "version": "3.8.8"
  }
 },
 "nbformat": 4,
 "nbformat_minor": 5
}
